{
  "nbformat": 4,
  "nbformat_minor": 0,
  "metadata": {
    "colab": {
      "name": "Trading_APIs.ipynb",
      "provenance": [],
      "collapsed_sections": [],
      "toc_visible": true,
      "authorship_tag": "ABX9TyNTrHDyaUvQfQ05F/LZXnOs",
      "include_colab_link": true
    },
    "kernelspec": {
      "display_name": "Python 3",
      "name": "python3"
    },
    "language_info": {
      "name": "python"
    }
  },
  "cells": [
    {
      "cell_type": "markdown",
      "metadata": {
        "id": "view-in-github",
        "colab_type": "text"
      },
      "source": [
        "<a href=\"https://colab.research.google.com/github/shramkoartem/automated-trading/blob/main/Trading_APIs.ipynb\" target=\"_parent\"><img src=\"https://colab.research.google.com/assets/colab-badge.svg\" alt=\"Open In Colab\"/></a>"
      ]
    },
    {
      "cell_type": "code",
      "metadata": {
        "colab": {
          "base_uri": "https://localhost:8080/"
        },
        "id": "FC8EBjeXXtUZ",
        "outputId": "3f3b8077-3552-43df-be47-75558d4ae31a"
      },
      "source": [
        "!pip install yfinance\n",
        "!pip install tabula-py"
      ],
      "execution_count": null,
      "outputs": [
        {
          "output_type": "stream",
          "text": [
            "Collecting yfinance\n",
            "  Downloading https://files.pythonhosted.org/packages/a7/ee/315752b9ef281ba83c62aa7ec2e2074f85223da6e7e74efb4d3e11c0f510/yfinance-0.1.59.tar.gz\n",
            "Requirement already satisfied: pandas>=0.24 in /usr/local/lib/python3.7/dist-packages (from yfinance) (1.1.5)\n",
            "Requirement already satisfied: numpy>=1.15 in /usr/local/lib/python3.7/dist-packages (from yfinance) (1.19.5)\n",
            "Requirement already satisfied: requests>=2.20 in /usr/local/lib/python3.7/dist-packages (from yfinance) (2.23.0)\n",
            "Requirement already satisfied: multitasking>=0.0.7 in /usr/local/lib/python3.7/dist-packages (from yfinance) (0.0.9)\n",
            "Collecting lxml>=4.5.1\n",
            "\u001b[?25l  Downloading https://files.pythonhosted.org/packages/30/c0/d0526314971fc661b083ab135747dc68446a3022686da8c16d25fcf6ef07/lxml-4.6.3-cp37-cp37m-manylinux2014_x86_64.whl (6.3MB)\n",
            "\u001b[K     |████████████████████████████████| 6.3MB 7.9MB/s \n",
            "\u001b[?25hRequirement already satisfied: python-dateutil>=2.7.3 in /usr/local/lib/python3.7/dist-packages (from pandas>=0.24->yfinance) (2.8.1)\n",
            "Requirement already satisfied: pytz>=2017.2 in /usr/local/lib/python3.7/dist-packages (from pandas>=0.24->yfinance) (2018.9)\n",
            "Requirement already satisfied: idna<3,>=2.5 in /usr/local/lib/python3.7/dist-packages (from requests>=2.20->yfinance) (2.10)\n",
            "Requirement already satisfied: certifi>=2017.4.17 in /usr/local/lib/python3.7/dist-packages (from requests>=2.20->yfinance) (2020.12.5)\n",
            "Requirement already satisfied: chardet<4,>=3.0.2 in /usr/local/lib/python3.7/dist-packages (from requests>=2.20->yfinance) (3.0.4)\n",
            "Requirement already satisfied: urllib3!=1.25.0,!=1.25.1,<1.26,>=1.21.1 in /usr/local/lib/python3.7/dist-packages (from requests>=2.20->yfinance) (1.24.3)\n",
            "Requirement already satisfied: six>=1.5 in /usr/local/lib/python3.7/dist-packages (from python-dateutil>=2.7.3->pandas>=0.24->yfinance) (1.15.0)\n",
            "Building wheels for collected packages: yfinance\n",
            "  Building wheel for yfinance (setup.py) ... \u001b[?25l\u001b[?25hdone\n",
            "  Created wheel for yfinance: filename=yfinance-0.1.59-py2.py3-none-any.whl size=23442 sha256=b198f25c4164c48f572649ab8787d1706dd951b0a2bfbc4db5864b094df654e1\n",
            "  Stored in directory: /root/.cache/pip/wheels/f8/2a/0f/4b5a86e1d52e451757eb6bc17fd899629f0925c777741b6d04\n",
            "Successfully built yfinance\n",
            "Installing collected packages: lxml, yfinance\n",
            "  Found existing installation: lxml 4.2.6\n",
            "    Uninstalling lxml-4.2.6:\n",
            "      Successfully uninstalled lxml-4.2.6\n",
            "Successfully installed lxml-4.6.3 yfinance-0.1.59\n",
            "Collecting tabula-py\n",
            "\u001b[?25l  Downloading https://files.pythonhosted.org/packages/cf/29/d6cb0d77ef46d84d35cffa09cf42c73b373aea664d28604eab6818f8a47c/tabula_py-2.2.0-py3-none-any.whl (11.7MB)\n",
            "\u001b[K     |████████████████████████████████| 11.7MB 5.1MB/s \n",
            "\u001b[?25hRequirement already satisfied: numpy in /usr/local/lib/python3.7/dist-packages (from tabula-py) (1.19.5)\n",
            "Collecting distro\n",
            "  Downloading https://files.pythonhosted.org/packages/25/b7/b3c4270a11414cb22c6352ebc7a83aaa3712043be29daa05018fd5a5c956/distro-1.5.0-py2.py3-none-any.whl\n",
            "Requirement already satisfied: pandas>=0.25.3 in /usr/local/lib/python3.7/dist-packages (from tabula-py) (1.1.5)\n",
            "Requirement already satisfied: python-dateutil>=2.7.3 in /usr/local/lib/python3.7/dist-packages (from pandas>=0.25.3->tabula-py) (2.8.1)\n",
            "Requirement already satisfied: pytz>=2017.2 in /usr/local/lib/python3.7/dist-packages (from pandas>=0.25.3->tabula-py) (2018.9)\n",
            "Requirement already satisfied: six>=1.5 in /usr/local/lib/python3.7/dist-packages (from python-dateutil>=2.7.3->pandas>=0.25.3->tabula-py) (1.15.0)\n",
            "Installing collected packages: distro, tabula-py\n",
            "Successfully installed distro-1.5.0 tabula-py-2.2.0\n"
          ],
          "name": "stdout"
        }
      ]
    },
    {
      "cell_type": "code",
      "metadata": {
        "id": "ggorztBEXutX"
      },
      "source": [
        "import yfinance as yf\n",
        "import tabula\n",
        "\n",
        "import math\n",
        "import requests\n",
        "\n",
        "import numpy as np\n",
        "import pandas as pd\n",
        "import matplotlib.pyplot as plt\n",
        "import seaborn as sns\n",
        "\n"
      ],
      "execution_count": null,
      "outputs": []
    },
    {
      "cell_type": "code",
      "metadata": {
        "id": "-GHgxmByj-t6"
      },
      "source": [
        "#yf.Ticker(\"EBBB.PA\").history(period='1D', interval='1m')\n"
      ],
      "execution_count": null,
      "outputs": []
    },
    {
      "cell_type": "code",
      "metadata": {
        "id": "J6xBqcNbYRlc"
      },
      "source": [
        "# Ticker data sources:\n",
        "# - https://www.alphavantage.co/documentation/\n",
        "\n",
        "# Tutorial on yfinance https://algotrading101.com/learn/yfinance-guide/"
      ],
      "execution_count": null,
      "outputs": []
    },
    {
      "cell_type": "markdown",
      "metadata": {
        "id": "Px1KfPlDPyXv"
      },
      "source": [
        "## Generating list of traded ETF"
      ]
    },
    {
      "cell_type": "code",
      "metadata": {
        "id": "2NW9iPJomRiY"
      },
      "source": [
        "# Getting table of listed at Trade Republic ETFs\n",
        "# ISIN & Name\n",
        "\n",
        "path = \"etfs.pdf\"\n",
        "tables = tabula.read_pdf(path, pages = \"all\", multiple_tables = True)\n",
        "\n",
        "etfs = tables[0]\n",
        "\n",
        "for i in range(1,len(tables)):\n",
        "    if tables[i].shape[1] == 2 and tables[i].shape[0] < 50:\n",
        "        print(tables[i].shape)\n",
        "        etfs = pd.concat([etfs, tables[i]])\n",
        "\n",
        "etfs.shape"
      ],
      "execution_count": null,
      "outputs": []
    },
    {
      "cell_type": "code",
      "metadata": {
        "id": "8pf-WycymYif"
      },
      "source": [
        "def get_ticker(isin):\n",
        "    \"\"\"\n",
        "    Returns Ticker of a Stock based on the ISIN value\n",
        "    - sends request to the yahoo finance api search\n",
        "    - Ticker name is to be found in 'quotes'.0.'symbol'\n",
        "\n",
        "    :Args:\n",
        "        - isin (str) ISIN code of a stock\n",
        "    :Returns:\n",
        "        - Ticker (str)\n",
        "    \"\"\"\n",
        "\n",
        "    url = \"https://query2.finance.yahoo.com/v1/finance/search\"  \n",
        "    params = {'q': isin, 'quotesCount': 1, 'newsCount': 0}\n",
        "\n",
        "    r = requests.get(url, params=params)\n",
        "    if r.status_code == 200:\n",
        "        data = r.json()\n",
        "        try:\n",
        "            ticker = data[\"quotes\"][0]['symbol']\n",
        "            return ticker\n",
        "        except:\n",
        "            print(data)\n",
        "            return None\n",
        "    else:\n",
        "        print(r.status_code)\n"
      ],
      "execution_count": null,
      "outputs": []
    },
    {
      "cell_type": "code",
      "metadata": {
        "id": "DSVQrvs3Pi1t"
      },
      "source": [
        "# map Ticker names\n",
        "\n",
        "etfs[\"Ticker\"] = etfs[\"ISIN\"].apply(lambda x: get_ticker(x))"
      ],
      "execution_count": null,
      "outputs": []
    },
    {
      "cell_type": "code",
      "metadata": {
        "id": "py_ZUPxVuQQ4"
      },
      "source": [
        "# Download generated file\n",
        "from google.colab import files\n",
        "\n",
        "etfs.to_csv(\"tr_etfs.csv\")\n",
        "files.download('tr_etfs.csv') "
      ],
      "execution_count": null,
      "outputs": []
    },
    {
      "cell_type": "markdown",
      "metadata": {
        "id": "DAUA3TruPqwz"
      },
      "source": [
        "## Getting historical data on portfolio"
      ]
    },
    {
      "cell_type": "code",
      "metadata": {
        "id": "HMjAfDxIuj5q"
      },
      "source": [
        "# reading in data from the generated in prev step csv\n",
        "\n",
        "filename = \"tr_etfs.csv\"\n",
        "\n",
        "etfs = pd.read_csv(filename, index_col=0)"
      ],
      "execution_count": null,
      "outputs": []
    },
    {
      "cell_type": "code",
      "metadata": {
        "id": "Hn03IUQluxY6",
        "colab": {
          "base_uri": "https://localhost:8080/",
          "height": 204
        },
        "outputId": "6f1d19ab-89c6-4a0c-834e-51cad6ead86a"
      },
      "source": [
        "etfs.head()"
      ],
      "execution_count": null,
      "outputs": [
        {
          "output_type": "execute_result",
          "data": {
            "text/html": [
              "<div>\n",
              "<style scoped>\n",
              "    .dataframe tbody tr th:only-of-type {\n",
              "        vertical-align: middle;\n",
              "    }\n",
              "\n",
              "    .dataframe tbody tr th {\n",
              "        vertical-align: top;\n",
              "    }\n",
              "\n",
              "    .dataframe thead th {\n",
              "        text-align: right;\n",
              "    }\n",
              "</style>\n",
              "<table border=\"1\" class=\"dataframe\">\n",
              "  <thead>\n",
              "    <tr style=\"text-align: right;\">\n",
              "      <th></th>\n",
              "      <th>ISIN</th>\n",
              "      <th>NOM</th>\n",
              "      <th>Ticker</th>\n",
              "    </tr>\n",
              "  </thead>\n",
              "  <tbody>\n",
              "    <tr>\n",
              "      <th>0</th>\n",
              "      <td>LU1525418643</td>\n",
              "      <td>AMUNDI BARCLAYS EURO CORP BBB 1-5Y EUR (ACC)</td>\n",
              "      <td>EBBB.PA</td>\n",
              "    </tr>\n",
              "    <tr>\n",
              "      <th>1</th>\n",
              "      <td>LU1437024729</td>\n",
              "      <td>AMUNDI BARCLAYS GLOBAL AGG 500M EUR (ACC)</td>\n",
              "      <td>GAGU.AS</td>\n",
              "    </tr>\n",
              "    <tr>\n",
              "      <th>2</th>\n",
              "      <td>LU1708330318</td>\n",
              "      <td>AMUNDI BARCLAYS GLOBAL AGG 500M EUR (ACC)</td>\n",
              "      <td>GAGH.PA</td>\n",
              "    </tr>\n",
              "    <tr>\n",
              "      <th>3</th>\n",
              "      <td>LU1737654019</td>\n",
              "      <td>AMUNDI BARCLAYS GLOBAL AGG 500M EUR (DIST)</td>\n",
              "      <td>10AM.DE</td>\n",
              "    </tr>\n",
              "    <tr>\n",
              "      <th>4</th>\n",
              "      <td>LU1778293313</td>\n",
              "      <td>AMUNDI BARCLAYS GLOBAL AGG 500M USD (ACC)</td>\n",
              "      <td>GAHU.PA</td>\n",
              "    </tr>\n",
              "  </tbody>\n",
              "</table>\n",
              "</div>"
            ],
            "text/plain": [
              "           ISIN                                           NOM   Ticker\n",
              "0  LU1525418643  AMUNDI BARCLAYS EURO CORP BBB 1-5Y EUR (ACC)  EBBB.PA\n",
              "1  LU1437024729     AMUNDI BARCLAYS GLOBAL AGG 500M EUR (ACC)  GAGU.AS\n",
              "2  LU1708330318     AMUNDI BARCLAYS GLOBAL AGG 500M EUR (ACC)  GAGH.PA\n",
              "3  LU1737654019    AMUNDI BARCLAYS GLOBAL AGG 500M EUR (DIST)  10AM.DE\n",
              "4  LU1778293313     AMUNDI BARCLAYS GLOBAL AGG 500M USD (ACC)  GAHU.PA"
            ]
          },
          "metadata": {
            "tags": []
          },
          "execution_count": 16
        }
      ]
    },
    {
      "cell_type": "code",
      "metadata": {
        "colab": {
          "base_uri": "https://localhost:8080/"
        },
        "id": "k-QP79T4QWNL",
        "outputId": "61928f0b-87a4-4268-f051-d51405d56efe"
      },
      "source": [
        "yf.Ticker(\"A0YE.DG\").info"
      ],
      "execution_count": null,
      "outputs": [
        {
          "output_type": "execute_result",
          "data": {
            "text/plain": [
              "{'logo_url': ''}"
            ]
          },
          "metadata": {
            "tags": []
          },
          "execution_count": 11
        }
      ]
    },
    {
      "cell_type": "code",
      "metadata": {
        "id": "kOJ1q6NpQ4ko"
      },
      "source": [
        "port_isin = \"\"\"IE00B5BMR087\n",
        "IE00B4L5Y983\n",
        "IE00BGV5VN51\n",
        "IE00B3WJKG14\n",
        "IE00BYZK4883\n",
        "IE00BP3QZ825\n",
        "LU1681045370\n",
        "DE000A0KRJU0\n",
        "LU1781541179\"\"\".split(\"\\n\")"
      ],
      "execution_count": null,
      "outputs": []
    },
    {
      "cell_type": "code",
      "metadata": {
        "id": "AltCQTBGSHRr"
      },
      "source": [
        "portfolio = etfs[etfs.ISIN.isin(port_isin)]"
      ],
      "execution_count": null,
      "outputs": []
    },
    {
      "cell_type": "code",
      "metadata": {
        "id": "ckUfY6YDTiJs"
      },
      "source": [
        "positions = {'IE00B5BMR087': 2,\n",
        " 'IE00B4L5Y983': 4,\n",
        " 'IE00BGV5VN51': 3,\n",
        " 'IE00B3WJKG14': 15,\n",
        " 'IE00BYZK4883': 12,\n",
        " 'IE00BP3QZ825': 2,\n",
        " 'LU1681045370': 20,\n",
        " 'LU1781541179': 5}"
      ],
      "execution_count": null,
      "outputs": []
    },
    {
      "cell_type": "code",
      "metadata": {
        "colab": {
          "base_uri": "https://localhost:8080/"
        },
        "id": "JWkofQIMURTU",
        "outputId": "5c29d0dc-57de-4d40-be13-4e354f267155"
      },
      "source": [
        "portfolio[\"n\"] = portfolio[\"ISIN\"].apply(lambda x: positions.get(x))"
      ],
      "execution_count": null,
      "outputs": [
        {
          "output_type": "stream",
          "text": [
            "/usr/local/lib/python3.7/dist-packages/ipykernel_launcher.py:1: SettingWithCopyWarning: \n",
            "A value is trying to be set on a copy of a slice from a DataFrame.\n",
            "Try using .loc[row_indexer,col_indexer] = value instead\n",
            "\n",
            "See the caveats in the documentation: https://pandas.pydata.org/pandas-docs/stable/user_guide/indexing.html#returning-a-view-versus-a-copy\n",
            "  \"\"\"Entry point for launching an IPython kernel.\n"
          ],
          "name": "stderr"
        }
      ]
    },
    {
      "cell_type": "code",
      "metadata": {
        "colab": {
          "base_uri": "https://localhost:8080/",
          "height": 297
        },
        "id": "S5W6eAyvUeeK",
        "outputId": "634ae55d-5f7a-464b-a4c5-d820ab146209"
      },
      "source": [
        "portfolio"
      ],
      "execution_count": null,
      "outputs": [
        {
          "output_type": "execute_result",
          "data": {
            "text/html": [
              "<div>\n",
              "<style scoped>\n",
              "    .dataframe tbody tr th:only-of-type {\n",
              "        vertical-align: middle;\n",
              "    }\n",
              "\n",
              "    .dataframe tbody tr th {\n",
              "        vertical-align: top;\n",
              "    }\n",
              "\n",
              "    .dataframe thead th {\n",
              "        text-align: right;\n",
              "    }\n",
              "</style>\n",
              "<table border=\"1\" class=\"dataframe\">\n",
              "  <thead>\n",
              "    <tr style=\"text-align: right;\">\n",
              "      <th></th>\n",
              "      <th>ISIN</th>\n",
              "      <th>NOM</th>\n",
              "      <th>Ticker</th>\n",
              "      <th>n</th>\n",
              "    </tr>\n",
              "  </thead>\n",
              "  <tbody>\n",
              "    <tr>\n",
              "      <th>44</th>\n",
              "      <td>LU1681045370</td>\n",
              "      <td>AMUNDI MSCI EMERGING MARKETS EUR (ACC)</td>\n",
              "      <td>AEEM.PA</td>\n",
              "      <td>20</td>\n",
              "    </tr>\n",
              "    <tr>\n",
              "      <th>20</th>\n",
              "      <td>IE00B4L5Y983</td>\n",
              "      <td>ISHARES CORE MSCI WORLD USD (ACC)</td>\n",
              "      <td>IWDA.L</td>\n",
              "      <td>4</td>\n",
              "    </tr>\n",
              "    <tr>\n",
              "      <th>21</th>\n",
              "      <td>IE00B5BMR087</td>\n",
              "      <td>ISHARES CORE S&amp;P 500 USD (ACC)</td>\n",
              "      <td>CSSPX.MI</td>\n",
              "      <td>2</td>\n",
              "    </tr>\n",
              "    <tr>\n",
              "      <th>30</th>\n",
              "      <td>IE00BYZK4883</td>\n",
              "      <td>ISHARES DIGITALISATION USD (ACC)</td>\n",
              "      <td>DGIT.L</td>\n",
              "      <td>12</td>\n",
              "    </tr>\n",
              "    <tr>\n",
              "      <th>35</th>\n",
              "      <td>IE00BP3QZ825</td>\n",
              "      <td>ISHARES EDGE WORLD MOMENTUM USD (ACC)</td>\n",
              "      <td>IWFM.L</td>\n",
              "      <td>2</td>\n",
              "    </tr>\n",
              "    <tr>\n",
              "      <th>16</th>\n",
              "      <td>IE00B3WJKG14</td>\n",
              "      <td>ISHARES S&amp;P 500 INFORMATION TECH USD (ACC)</td>\n",
              "      <td>IITU.L</td>\n",
              "      <td>15</td>\n",
              "    </tr>\n",
              "    <tr>\n",
              "      <th>6</th>\n",
              "      <td>LU1781541179</td>\n",
              "      <td>LYXOR CORE MSCI WORLD USD (ACC)</td>\n",
              "      <td>LCWL.L</td>\n",
              "      <td>5</td>\n",
              "    </tr>\n",
              "    <tr>\n",
              "      <th>44</th>\n",
              "      <td>IE00BGV5VN51</td>\n",
              "      <td>XTRACKERS AI &amp; BIG DATA USD (ACC)</td>\n",
              "      <td>IE00BGV5VN51.SG</td>\n",
              "      <td>3</td>\n",
              "    </tr>\n",
              "  </tbody>\n",
              "</table>\n",
              "</div>"
            ],
            "text/plain": [
              "            ISIN  ...   n\n",
              "44  LU1681045370  ...  20\n",
              "20  IE00B4L5Y983  ...   4\n",
              "21  IE00B5BMR087  ...   2\n",
              "30  IE00BYZK4883  ...  12\n",
              "35  IE00BP3QZ825  ...   2\n",
              "16  IE00B3WJKG14  ...  15\n",
              "6   LU1781541179  ...   5\n",
              "44  IE00BGV5VN51  ...   3\n",
              "\n",
              "[8 rows x 4 columns]"
            ]
          },
          "metadata": {
            "tags": []
          },
          "execution_count": 27
        }
      ]
    },
    {
      "cell_type": "code",
      "metadata": {
        "id": "0Xar05g0VOSb"
      },
      "source": [
        "def get_open(x):\n",
        "    try:\n",
        "        return yf.Ticker(x).info[\"open\"]\n",
        "    except:\n",
        "        return 0\n"
      ],
      "execution_count": null,
      "outputs": []
    },
    {
      "cell_type": "code",
      "metadata": {
        "colab": {
          "base_uri": "https://localhost:8080/"
        },
        "id": "9DmaP4AGUoMK",
        "outputId": "7b7c3a8b-4e63-407f-8759-a12fc61dbef1"
      },
      "source": [
        "portfolio[\"open\"] = portfolio[\"Ticker\"].apply(lambda x: get_open(x))"
      ],
      "execution_count": null,
      "outputs": [
        {
          "output_type": "stream",
          "text": [
            "/usr/local/lib/python3.7/dist-packages/ipykernel_launcher.py:1: SettingWithCopyWarning: \n",
            "A value is trying to be set on a copy of a slice from a DataFrame.\n",
            "Try using .loc[row_indexer,col_indexer] = value instead\n",
            "\n",
            "See the caveats in the documentation: https://pandas.pydata.org/pandas-docs/stable/user_guide/indexing.html#returning-a-view-versus-a-copy\n",
            "  \"\"\"Entry point for launching an IPython kernel.\n"
          ],
          "name": "stderr"
        }
      ]
    },
    {
      "cell_type": "code",
      "metadata": {
        "colab": {
          "base_uri": "https://localhost:8080/",
          "height": 297
        },
        "id": "QNj4J_TkXqWZ",
        "outputId": "5b79c382-7643-472c-f154-d1a947592323"
      },
      "source": [
        "portfolio"
      ],
      "execution_count": null,
      "outputs": [
        {
          "output_type": "execute_result",
          "data": {
            "text/html": [
              "<div>\n",
              "<style scoped>\n",
              "    .dataframe tbody tr th:only-of-type {\n",
              "        vertical-align: middle;\n",
              "    }\n",
              "\n",
              "    .dataframe tbody tr th {\n",
              "        vertical-align: top;\n",
              "    }\n",
              "\n",
              "    .dataframe thead th {\n",
              "        text-align: right;\n",
              "    }\n",
              "</style>\n",
              "<table border=\"1\" class=\"dataframe\">\n",
              "  <thead>\n",
              "    <tr style=\"text-align: right;\">\n",
              "      <th></th>\n",
              "      <th>ISIN</th>\n",
              "      <th>NOM</th>\n",
              "      <th>Ticker</th>\n",
              "      <th>n</th>\n",
              "      <th>open</th>\n",
              "    </tr>\n",
              "  </thead>\n",
              "  <tbody>\n",
              "    <tr>\n",
              "      <th>44</th>\n",
              "      <td>LU1681045370</td>\n",
              "      <td>AMUNDI MSCI EMERGING MARKETS EUR (ACC)</td>\n",
              "      <td>AEEM.PA</td>\n",
              "      <td>20</td>\n",
              "      <td>5.1002</td>\n",
              "    </tr>\n",
              "    <tr>\n",
              "      <th>20</th>\n",
              "      <td>IE00B4L5Y983</td>\n",
              "      <td>ISHARES CORE MSCI WORLD USD (ACC)</td>\n",
              "      <td>IWDA.L</td>\n",
              "      <td>4</td>\n",
              "      <td>81.8400</td>\n",
              "    </tr>\n",
              "    <tr>\n",
              "      <th>21</th>\n",
              "      <td>IE00B5BMR087</td>\n",
              "      <td>ISHARES CORE S&amp;P 500 USD (ACC)</td>\n",
              "      <td>CSSPX.MI</td>\n",
              "      <td>2</td>\n",
              "      <td>350.7400</td>\n",
              "    </tr>\n",
              "    <tr>\n",
              "      <th>30</th>\n",
              "      <td>IE00BYZK4883</td>\n",
              "      <td>ISHARES DIGITALISATION USD (ACC)</td>\n",
              "      <td>DGIT.L</td>\n",
              "      <td>12</td>\n",
              "      <td>751.7500</td>\n",
              "    </tr>\n",
              "    <tr>\n",
              "      <th>35</th>\n",
              "      <td>IE00BP3QZ825</td>\n",
              "      <td>ISHARES EDGE WORLD MOMENTUM USD (ACC)</td>\n",
              "      <td>IWFM.L</td>\n",
              "      <td>2</td>\n",
              "      <td>4414.0000</td>\n",
              "    </tr>\n",
              "    <tr>\n",
              "      <th>16</th>\n",
              "      <td>IE00B3WJKG14</td>\n",
              "      <td>ISHARES S&amp;P 500 INFORMATION TECH USD (ACC)</td>\n",
              "      <td>IITU.L</td>\n",
              "      <td>15</td>\n",
              "      <td>1229.0000</td>\n",
              "    </tr>\n",
              "    <tr>\n",
              "      <th>6</th>\n",
              "      <td>LU1781541179</td>\n",
              "      <td>LYXOR CORE MSCI WORLD USD (ACC)</td>\n",
              "      <td>LCWL.L</td>\n",
              "      <td>5</td>\n",
              "      <td>10.5680</td>\n",
              "    </tr>\n",
              "    <tr>\n",
              "      <th>44</th>\n",
              "      <td>IE00BGV5VN51</td>\n",
              "      <td>XTRACKERS AI &amp; BIG DATA USD (ACC)</td>\n",
              "      <td>IE00BGV5VN51.SG</td>\n",
              "      <td>3</td>\n",
              "      <td>0.0000</td>\n",
              "    </tr>\n",
              "  </tbody>\n",
              "</table>\n",
              "</div>"
            ],
            "text/plain": [
              "            ISIN                                         NOM  ...   n       open\n",
              "44  LU1681045370      AMUNDI MSCI EMERGING MARKETS EUR (ACC)  ...  20     5.1002\n",
              "20  IE00B4L5Y983           ISHARES CORE MSCI WORLD USD (ACC)  ...   4    81.8400\n",
              "21  IE00B5BMR087              ISHARES CORE S&P 500 USD (ACC)  ...   2   350.7400\n",
              "30  IE00BYZK4883            ISHARES DIGITALISATION USD (ACC)  ...  12   751.7500\n",
              "35  IE00BP3QZ825       ISHARES EDGE WORLD MOMENTUM USD (ACC)  ...   2  4414.0000\n",
              "16  IE00B3WJKG14  ISHARES S&P 500 INFORMATION TECH USD (ACC)  ...  15  1229.0000\n",
              "6   LU1781541179             LYXOR CORE MSCI WORLD USD (ACC)  ...   5    10.5680\n",
              "44  IE00BGV5VN51           XTRACKERS AI & BIG DATA USD (ACC)  ...   3     0.0000\n",
              "\n",
              "[8 rows x 5 columns]"
            ]
          },
          "metadata": {
            "tags": []
          },
          "execution_count": 51
        }
      ]
    },
    {
      "cell_type": "markdown",
      "metadata": {
        "id": "ZwAvvYrdXuy9"
      },
      "source": [
        "## Getting historical data"
      ]
    },
    {
      "cell_type": "code",
      "metadata": {
        "id": "mgn0KGTeVnb9"
      },
      "source": [
        "tic_names = portfolio.Ticker.values.tolist()\n",
        "tic_names.remove(\"IE00BGV5VN51.SG\")\n",
        "tickers = yf.Tickers(tic_names)"
      ],
      "execution_count": null,
      "outputs": []
    },
    {
      "cell_type": "code",
      "metadata": {
        "colab": {
          "base_uri": "https://localhost:8080/"
        },
        "id": "-jPIlLhAXc_N",
        "outputId": "4b322dbb-4e38-4f36-caf1-354bb90040a4"
      },
      "source": [
        "tics_daily = tickers.history('max')[[\"Close\", \"High\", \"Low\", \"Open\", \"Volume\"]]"
      ],
      "execution_count": null,
      "outputs": [
        {
          "output_type": "stream",
          "text": [
            "[*********************100%***********************]  7 of 7 completed\n"
          ],
          "name": "stdout"
        }
      ]
    },
    {
      "cell_type": "code",
      "metadata": {
        "colab": {
          "base_uri": "https://localhost:8080/",
          "height": 286
        },
        "id": "saVUmEImXhBc",
        "outputId": "f6557f29-ab3d-4ae9-8355-2ce91a8fec33"
      },
      "source": [
        "tics_daily[\"Close\"].plot()"
      ],
      "execution_count": null,
      "outputs": [
        {
          "output_type": "execute_result",
          "data": {
            "text/plain": [
              "<matplotlib.axes._subplots.AxesSubplot at 0x7f05d0aa7cd0>"
            ]
          },
          "metadata": {
            "tags": []
          },
          "execution_count": 66
        },
        {
          "output_type": "display_data",
          "data": {
            "image/png": "[encoded data removed]",
            "text/plain": [
              "<Figure size 432x288 with 1 Axes>"
            ]
          },
          "metadata": {
            "tags": [],
            "needs_background": "light"
          }
        }
      ]
    },
    {
      "cell_type": "code",
      "metadata": {
        "id": "MZEonU1IYtRK"
      },
      "source": [
        "def calculate_returns(close):\n",
        "    \"\"\"\n",
        "    Compute returns for each ticker and date in close.\n",
        "    \n",
        "    Parameters\n",
        "    ----------\n",
        "    close : DataFrame\n",
        "        Close prices for each ticker and date\n",
        "    \n",
        "    Returns\n",
        "    -------\n",
        "    returns : DataFrame\n",
        "        Returns for each ticker and date\n",
        "    \"\"\"\n",
        "    # TODO: Implement Function\n",
        "    \n",
        "    return (close - close.shift(1))/close.shift(1)\n",
        "\n",
        "tic_r =  calculate_returns(tics_daily.Close)"
      ],
      "execution_count": null,
      "outputs": []
    },
    {
      "cell_type": "code",
      "metadata": {
        "colab": {
          "base_uri": "https://localhost:8080/",
          "height": 286
        },
        "id": "ot86ODpaZc-u",
        "outputId": "8aca4167-d1a9-49e8-b2a3-a1651f819d7e"
      },
      "source": [
        "tic_r.plot()"
      ],
      "execution_count": null,
      "outputs": [
        {
          "output_type": "execute_result",
          "data": {
            "text/plain": [
              "<matplotlib.axes._subplots.AxesSubplot at 0x7f05cd814810>"
            ]
          },
          "metadata": {
            "tags": []
          },
          "execution_count": 107
        },
        {
          "output_type": "display_data",
          "data": {
            "image/png": "[encoded data removed]",
            "text/plain": [
              "<Figure size 432x288 with 1 Axes>"
            ]
          },
          "metadata": {
            "tags": [],
            "needs_background": "light"
          }
        }
      ]
    },
    {
      "cell_type": "code",
      "metadata": {
        "id": "4vixf1lIZeWm"
      },
      "source": [
        "def get_zscore(df):\n",
        "    for col in df.columns:\n",
        "        df[col] = (df[col] - df[col].mean()) / df[col].std(ddof=0)\n",
        "\n",
        "    return df"
      ],
      "execution_count": null,
      "outputs": []
    },
    {
      "cell_type": "code",
      "metadata": {
        "id": "NqnS1Uj2ZoVz"
      },
      "source": [
        "scores = get_zscore(tic_r) < 3\n",
        "\n",
        "clean_tic_r = tic_r[scores.all(axis=1)]\n"
      ],
      "execution_count": null,
      "outputs": []
    },
    {
      "cell_type": "code",
      "metadata": {
        "colab": {
          "base_uri": "https://localhost:8080/",
          "height": 700
        },
        "id": "kFxVD5oDZrQh",
        "outputId": "452503d4-b4a3-40b6-9c0e-ba8456495681"
      },
      "source": [
        "clean_tic_r.tail(20)"
      ],
      "execution_count": null,
      "outputs": [
        {
          "output_type": "execute_result",
          "data": {
            "text/html": [
              "<div>\n",
              "<style scoped>\n",
              "    .dataframe tbody tr th:only-of-type {\n",
              "        vertical-align: middle;\n",
              "    }\n",
              "\n",
              "    .dataframe tbody tr th {\n",
              "        vertical-align: top;\n",
              "    }\n",
              "\n",
              "    .dataframe thead th {\n",
              "        text-align: right;\n",
              "    }\n",
              "</style>\n",
              "<table border=\"1\" class=\"dataframe\">\n",
              "  <thead>\n",
              "    <tr style=\"text-align: right;\">\n",
              "      <th></th>\n",
              "      <th>AEEM.PA</th>\n",
              "      <th>CSSPX.MI</th>\n",
              "      <th>DGIT.L</th>\n",
              "      <th>IITU.L</th>\n",
              "      <th>IWDA.L</th>\n",
              "      <th>IWFM.L</th>\n",
              "      <th>LCWL.L</th>\n",
              "    </tr>\n",
              "    <tr>\n",
              "      <th>Date</th>\n",
              "      <th></th>\n",
              "      <th></th>\n",
              "      <th></th>\n",
              "      <th></th>\n",
              "      <th></th>\n",
              "      <th></th>\n",
              "      <th></th>\n",
              "    </tr>\n",
              "  </thead>\n",
              "  <tbody>\n",
              "    <tr>\n",
              "      <th>2021-04-22</th>\n",
              "      <td>0.633829</td>\n",
              "      <td>0.573003</td>\n",
              "      <td>-0.024033</td>\n",
              "      <td>0.331024</td>\n",
              "      <td>0.532272</td>\n",
              "      <td>0.544030</td>\n",
              "      <td>0.788891</td>\n",
              "    </tr>\n",
              "    <tr>\n",
              "      <th>2021-04-23</th>\n",
              "      <td>0.350605</td>\n",
              "      <td>-0.445931</td>\n",
              "      <td>-0.028329</td>\n",
              "      <td>0.029428</td>\n",
              "      <td>0.038176</td>\n",
              "      <td>0.039148</td>\n",
              "      <td>0.040520</td>\n",
              "    </tr>\n",
              "    <tr>\n",
              "      <th>2021-04-26</th>\n",
              "      <td>-0.051235</td>\n",
              "      <td>0.162196</td>\n",
              "      <td>-0.027274</td>\n",
              "      <td>0.128698</td>\n",
              "      <td>0.061544</td>\n",
              "      <td>0.112206</td>\n",
              "      <td>0.115577</td>\n",
              "    </tr>\n",
              "    <tr>\n",
              "      <th>2021-04-27</th>\n",
              "      <td>0.238222</td>\n",
              "      <td>-0.216438</td>\n",
              "      <td>-0.027448</td>\n",
              "      <td>-0.187060</td>\n",
              "      <td>-0.207269</td>\n",
              "      <td>-0.076052</td>\n",
              "      <td>-0.334344</td>\n",
              "    </tr>\n",
              "    <tr>\n",
              "      <th>2021-04-28</th>\n",
              "      <td>0.144135</td>\n",
              "      <td>-0.079470</td>\n",
              "      <td>-0.030758</td>\n",
              "      <td>-0.250309</td>\n",
              "      <td>0.104777</td>\n",
              "      <td>-0.053172</td>\n",
              "      <td>0.147329</td>\n",
              "    </tr>\n",
              "    <tr>\n",
              "      <th>2021-04-29</th>\n",
              "      <td>-0.546172</td>\n",
              "      <td>-0.145351</td>\n",
              "      <td>-0.032153</td>\n",
              "      <td>-0.239721</td>\n",
              "      <td>-0.114052</td>\n",
              "      <td>-0.195732</td>\n",
              "      <td>-0.172370</td>\n",
              "    </tr>\n",
              "    <tr>\n",
              "      <th>2021-04-30</th>\n",
              "      <td>-0.450355</td>\n",
              "      <td>0.360100</td>\n",
              "      <td>-0.030059</td>\n",
              "      <td>0.086741</td>\n",
              "      <td>0.198710</td>\n",
              "      <td>0.147768</td>\n",
              "      <td>0.297993</td>\n",
              "    </tr>\n",
              "    <tr>\n",
              "      <th>2021-05-05</th>\n",
              "      <td>1.066910</td>\n",
              "      <td>1.023934</td>\n",
              "      <td>-0.027207</td>\n",
              "      <td>0.304636</td>\n",
              "      <td>0.414411</td>\n",
              "      <td>0.420889</td>\n",
              "      <td>0.555116</td>\n",
              "    </tr>\n",
              "    <tr>\n",
              "      <th>2021-05-06</th>\n",
              "      <td>0.055193</td>\n",
              "      <td>-0.619503</td>\n",
              "      <td>-0.033839</td>\n",
              "      <td>-0.053270</td>\n",
              "      <td>0.022661</td>\n",
              "      <td>-0.304165</td>\n",
              "      <td>0.059632</td>\n",
              "    </tr>\n",
              "    <tr>\n",
              "      <th>2021-05-07</th>\n",
              "      <td>0.567036</td>\n",
              "      <td>0.562625</td>\n",
              "      <td>-0.024036</td>\n",
              "      <td>0.360414</td>\n",
              "      <td>0.355598</td>\n",
              "      <td>0.491520</td>\n",
              "      <td>0.530943</td>\n",
              "    </tr>\n",
              "    <tr>\n",
              "      <th>2021-05-10</th>\n",
              "      <td>-1.580392</td>\n",
              "      <td>-0.242917</td>\n",
              "      <td>-0.036665</td>\n",
              "      <td>-0.915817</td>\n",
              "      <td>-0.459475</td>\n",
              "      <td>-1.027180</td>\n",
              "      <td>-0.689134</td>\n",
              "    </tr>\n",
              "    <tr>\n",
              "      <th>2021-05-11</th>\n",
              "      <td>-1.039287</td>\n",
              "      <td>-1.980522</td>\n",
              "      <td>-0.034486</td>\n",
              "      <td>-0.613619</td>\n",
              "      <td>-0.939225</td>\n",
              "      <td>-0.567457</td>\n",
              "      <td>-1.395286</td>\n",
              "    </tr>\n",
              "    <tr>\n",
              "      <th>2021-05-12</th>\n",
              "      <td>-1.120721</td>\n",
              "      <td>-0.508984</td>\n",
              "      <td>-0.033798</td>\n",
              "      <td>-0.484645</td>\n",
              "      <td>-0.249418</td>\n",
              "      <td>-0.523283</td>\n",
              "      <td>-0.363348</td>\n",
              "    </tr>\n",
              "    <tr>\n",
              "      <th>2021-05-13</th>\n",
              "      <td>-0.237000</td>\n",
              "      <td>0.267364</td>\n",
              "      <td>-0.030648</td>\n",
              "      <td>0.366167</td>\n",
              "      <td>0.152327</td>\n",
              "      <td>0.012863</td>\n",
              "      <td>0.197358</td>\n",
              "    </tr>\n",
              "    <tr>\n",
              "      <th>2021-05-14</th>\n",
              "      <td>0.732784</td>\n",
              "      <td>0.721123</td>\n",
              "      <td>-0.023449</td>\n",
              "      <td>0.442805</td>\n",
              "      <td>0.489285</td>\n",
              "      <td>0.519228</td>\n",
              "      <td>0.706006</td>\n",
              "    </tr>\n",
              "    <tr>\n",
              "      <th>2021-05-17</th>\n",
              "      <td>-0.206940</td>\n",
              "      <td>-0.456106</td>\n",
              "      <td>-0.030750</td>\n",
              "      <td>-0.320440</td>\n",
              "      <td>-0.211516</td>\n",
              "      <td>-0.242990</td>\n",
              "      <td>-0.309348</td>\n",
              "    </tr>\n",
              "    <tr>\n",
              "      <th>2021-05-18</th>\n",
              "      <td>1.100996</td>\n",
              "      <td>-0.315985</td>\n",
              "      <td>-0.025560</td>\n",
              "      <td>0.078870</td>\n",
              "      <td>0.011126</td>\n",
              "      <td>0.220490</td>\n",
              "      <td>0.028867</td>\n",
              "    </tr>\n",
              "    <tr>\n",
              "      <th>2021-05-19</th>\n",
              "      <td>-0.820765</td>\n",
              "      <td>-1.877389</td>\n",
              "      <td>-0.034276</td>\n",
              "      <td>-0.443286</td>\n",
              "      <td>-0.679520</td>\n",
              "      <td>-0.573506</td>\n",
              "      <td>-0.970069</td>\n",
              "    </tr>\n",
              "    <tr>\n",
              "      <th>2021-05-20</th>\n",
              "      <td>0.807890</td>\n",
              "      <td>1.752055</td>\n",
              "      <td>-0.020429</td>\n",
              "      <td>0.853304</td>\n",
              "      <td>0.793467</td>\n",
              "      <td>0.885929</td>\n",
              "      <td>1.016938</td>\n",
              "    </tr>\n",
              "    <tr>\n",
              "      <th>2021-05-21</th>\n",
              "      <td>-0.555443</td>\n",
              "      <td>0.455553</td>\n",
              "      <td>-0.028054</td>\n",
              "      <td>-0.080939</td>\n",
              "      <td>0.094739</td>\n",
              "      <td>0.070007</td>\n",
              "      <td>0.195180</td>\n",
              "    </tr>\n",
              "  </tbody>\n",
              "</table>\n",
              "</div>"
            ],
            "text/plain": [
              "             AEEM.PA  CSSPX.MI    DGIT.L  ...    IWDA.L    IWFM.L    LCWL.L\n",
              "Date                                      ...                              \n",
              "2021-04-22  0.633829  0.573003 -0.024033  ...  0.532272  0.544030  0.788891\n",
              "2021-04-23  0.350605 -0.445931 -0.028329  ...  0.038176  0.039148  0.040520\n",
              "2021-04-26 -0.051235  0.162196 -0.027274  ...  0.061544  0.112206  0.115577\n",
              "2021-04-27  0.238222 -0.216438 -0.027448  ... -0.207269 -0.076052 -0.334344\n",
              "2021-04-28  0.144135 -0.079470 -0.030758  ...  0.104777 -0.053172  0.147329\n",
              "2021-04-29 -0.546172 -0.145351 -0.032153  ... -0.114052 -0.195732 -0.172370\n",
              "2021-04-30 -0.450355  0.360100 -0.030059  ...  0.198710  0.147768  0.297993\n",
              "2021-05-05  1.066910  1.023934 -0.027207  ...  0.414411  0.420889  0.555116\n",
              "2021-05-06  0.055193 -0.619503 -0.033839  ...  0.022661 -0.304165  0.059632\n",
              "2021-05-07  0.567036  0.562625 -0.024036  ...  0.355598  0.491520  0.530943\n",
              "2021-05-10 -1.580392 -0.242917 -0.036665  ... -0.459475 -1.027180 -0.689134\n",
              "2021-05-11 -1.039287 -1.980522 -0.034486  ... -0.939225 -0.567457 -1.395286\n",
              "2021-05-12 -1.120721 -0.508984 -0.033798  ... -0.249418 -0.523283 -0.363348\n",
              "2021-05-13 -0.237000  0.267364 -0.030648  ...  0.152327  0.012863  0.197358\n",
              "2021-05-14  0.732784  0.721123 -0.023449  ...  0.489285  0.519228  0.706006\n",
              "2021-05-17 -0.206940 -0.456106 -0.030750  ... -0.211516 -0.242990 -0.309348\n",
              "2021-05-18  1.100996 -0.315985 -0.025560  ...  0.011126  0.220490  0.028867\n",
              "2021-05-19 -0.820765 -1.877389 -0.034276  ... -0.679520 -0.573506 -0.970069\n",
              "2021-05-20  0.807890  1.752055 -0.020429  ...  0.793467  0.885929  1.016938\n",
              "2021-05-21 -0.555443  0.455553 -0.028054  ...  0.094739  0.070007  0.195180\n",
              "\n",
              "[20 rows x 7 columns]"
            ]
          },
          "metadata": {
            "tags": []
          },
          "execution_count": 126
        }
      ]
    },
    {
      "cell_type": "code",
      "metadata": {
        "colab": {
          "base_uri": "https://localhost:8080/",
          "height": 592
        },
        "id": "9szTxllTawTp",
        "outputId": "4aa3270a-cec3-4604-ae3a-4a7b2da3d97a"
      },
      "source": [
        "clean_tic_r.plot(figsize=(15,10))\n",
        "\n",
        "plt.ylim(-10, 10)"
      ],
      "execution_count": null,
      "outputs": [
        {
          "output_type": "execute_result",
          "data": {
            "text/plain": [
              "(-10.0, 10.0)"
            ]
          },
          "metadata": {
            "tags": []
          },
          "execution_count": 131
        },
        {
          "output_type": "display_data",
          "data": {
            "image/png": "[encoded data removed]",
            "text/plain": [
              "<Figure size 1080x720 with 1 Axes>"
            ]
          },
          "metadata": {
            "tags": [],
            "needs_background": "light"
          }
        }
      ]
    },
    {
      "cell_type": "code",
      "metadata": {
        "colab": {
          "base_uri": "https://localhost:8080/"
        },
        "id": "0fCVJrPBbDT4",
        "outputId": "711ff026-d4ae-472c-f1d0-e81eadf247cd"
      },
      "source": [
        "get_zscore(tic_r).max()"
      ],
      "execution_count": null,
      "outputs": [
        {
          "output_type": "execute_result",
          "data": {
            "text/plain": [
              "AEEM.PA      6.678395\n",
              "CSSPX.MI     7.752727\n",
              "DGIT.L      34.186909\n",
              "IITU.L       2.512280\n",
              "IWDA.L       2.913367\n",
              "IWFM.L       2.280790\n",
              "LCWL.L       4.286523\n",
              "dtype: float64"
            ]
          },
          "metadata": {
            "tags": []
          },
          "execution_count": 128
        }
      ]
    },
    {
      "cell_type": "code",
      "metadata": {
        "colab": {
          "base_uri": "https://localhost:8080/"
        },
        "id": "SXDJ6-wrdcBs",
        "outputId": "0acae4cc-80d5-4907-da31-ef57901088f6"
      },
      "source": [
        "clean_tic_r.abs().max()"
      ],
      "execution_count": null,
      "outputs": [
        {
          "output_type": "execute_result",
          "data": {
            "text/plain": [
              "AEEM.PA     10.653474\n",
              "CSSPX.MI     7.830786\n",
              "DGIT.L       0.372468\n",
              "IITU.L      31.752002\n",
              "IWDA.L      44.981283\n",
              "IWFM.L      34.906551\n",
              "LCWL.L      19.571694\n",
              "dtype: float64"
            ]
          },
          "metadata": {
            "tags": []
          },
          "execution_count": 129
        }
      ]
    },
    {
      "cell_type": "code",
      "metadata": {
        "colab": {
          "base_uri": "https://localhost:8080/",
          "height": 450
        },
        "id": "r30D2ms-dkKM",
        "outputId": "5edf3a24-955a-4286-bda6-60d12410127e"
      },
      "source": [
        "get_zscore(tic_r) <3"
      ],
      "execution_count": null,
      "outputs": [
        {
          "output_type": "execute_result",
          "data": {
            "text/html": [
              "<div>\n",
              "<style scoped>\n",
              "    .dataframe tbody tr th:only-of-type {\n",
              "        vertical-align: middle;\n",
              "    }\n",
              "\n",
              "    .dataframe tbody tr th {\n",
              "        vertical-align: top;\n",
              "    }\n",
              "\n",
              "    .dataframe thead th {\n",
              "        text-align: right;\n",
              "    }\n",
              "</style>\n",
              "<table border=\"1\" class=\"dataframe\">\n",
              "  <thead>\n",
              "    <tr style=\"text-align: right;\">\n",
              "      <th></th>\n",
              "      <th>AEEM.PA</th>\n",
              "      <th>CSSPX.MI</th>\n",
              "      <th>DGIT.L</th>\n",
              "      <th>IITU.L</th>\n",
              "      <th>IWDA.L</th>\n",
              "      <th>IWFM.L</th>\n",
              "      <th>LCWL.L</th>\n",
              "    </tr>\n",
              "    <tr>\n",
              "      <th>Date</th>\n",
              "      <th></th>\n",
              "      <th></th>\n",
              "      <th></th>\n",
              "      <th></th>\n",
              "      <th></th>\n",
              "      <th></th>\n",
              "      <th></th>\n",
              "    </tr>\n",
              "  </thead>\n",
              "  <tbody>\n",
              "    <tr>\n",
              "      <th>2009-09-25</th>\n",
              "      <td>False</td>\n",
              "      <td>False</td>\n",
              "      <td>False</td>\n",
              "      <td>False</td>\n",
              "      <td>False</td>\n",
              "      <td>False</td>\n",
              "      <td>False</td>\n",
              "    </tr>\n",
              "    <tr>\n",
              "      <th>2009-09-28</th>\n",
              "      <td>False</td>\n",
              "      <td>False</td>\n",
              "      <td>False</td>\n",
              "      <td>False</td>\n",
              "      <td>True</td>\n",
              "      <td>False</td>\n",
              "      <td>False</td>\n",
              "    </tr>\n",
              "    <tr>\n",
              "      <th>2009-09-29</th>\n",
              "      <td>False</td>\n",
              "      <td>False</td>\n",
              "      <td>False</td>\n",
              "      <td>False</td>\n",
              "      <td>True</td>\n",
              "      <td>False</td>\n",
              "      <td>False</td>\n",
              "    </tr>\n",
              "    <tr>\n",
              "      <th>2009-09-30</th>\n",
              "      <td>False</td>\n",
              "      <td>False</td>\n",
              "      <td>False</td>\n",
              "      <td>False</td>\n",
              "      <td>True</td>\n",
              "      <td>False</td>\n",
              "      <td>False</td>\n",
              "    </tr>\n",
              "    <tr>\n",
              "      <th>2009-10-01</th>\n",
              "      <td>False</td>\n",
              "      <td>False</td>\n",
              "      <td>False</td>\n",
              "      <td>False</td>\n",
              "      <td>True</td>\n",
              "      <td>False</td>\n",
              "      <td>False</td>\n",
              "    </tr>\n",
              "    <tr>\n",
              "      <th>...</th>\n",
              "      <td>...</td>\n",
              "      <td>...</td>\n",
              "      <td>...</td>\n",
              "      <td>...</td>\n",
              "      <td>...</td>\n",
              "      <td>...</td>\n",
              "      <td>...</td>\n",
              "    </tr>\n",
              "    <tr>\n",
              "      <th>2021-05-24</th>\n",
              "      <td>True</td>\n",
              "      <td>False</td>\n",
              "      <td>False</td>\n",
              "      <td>False</td>\n",
              "      <td>False</td>\n",
              "      <td>False</td>\n",
              "      <td>False</td>\n",
              "    </tr>\n",
              "    <tr>\n",
              "      <th>2021-05-25</th>\n",
              "      <td>True</td>\n",
              "      <td>False</td>\n",
              "      <td>False</td>\n",
              "      <td>False</td>\n",
              "      <td>False</td>\n",
              "      <td>False</td>\n",
              "      <td>False</td>\n",
              "    </tr>\n",
              "    <tr>\n",
              "      <th>2021-05-26</th>\n",
              "      <td>True</td>\n",
              "      <td>False</td>\n",
              "      <td>False</td>\n",
              "      <td>False</td>\n",
              "      <td>False</td>\n",
              "      <td>False</td>\n",
              "      <td>False</td>\n",
              "    </tr>\n",
              "    <tr>\n",
              "      <th>2021-05-27</th>\n",
              "      <td>True</td>\n",
              "      <td>False</td>\n",
              "      <td>False</td>\n",
              "      <td>False</td>\n",
              "      <td>False</td>\n",
              "      <td>False</td>\n",
              "      <td>False</td>\n",
              "    </tr>\n",
              "    <tr>\n",
              "      <th>2021-05-28</th>\n",
              "      <td>True</td>\n",
              "      <td>False</td>\n",
              "      <td>False</td>\n",
              "      <td>False</td>\n",
              "      <td>False</td>\n",
              "      <td>False</td>\n",
              "      <td>False</td>\n",
              "    </tr>\n",
              "  </tbody>\n",
              "</table>\n",
              "<p>2992 rows × 7 columns</p>\n",
              "</div>"
            ],
            "text/plain": [
              "            AEEM.PA  CSSPX.MI  DGIT.L  IITU.L  IWDA.L  IWFM.L  LCWL.L\n",
              "Date                                                                 \n",
              "2009-09-25    False     False   False   False   False   False   False\n",
              "2009-09-28    False     False   False   False    True   False   False\n",
              "2009-09-29    False     False   False   False    True   False   False\n",
              "2009-09-30    False     False   False   False    True   False   False\n",
              "2009-10-01    False     False   False   False    True   False   False\n",
              "...             ...       ...     ...     ...     ...     ...     ...\n",
              "2021-05-24     True     False   False   False   False   False   False\n",
              "2021-05-25     True     False   False   False   False   False   False\n",
              "2021-05-26     True     False   False   False   False   False   False\n",
              "2021-05-27     True     False   False   False   False   False   False\n",
              "2021-05-28     True     False   False   False   False   False   False\n",
              "\n",
              "[2992 rows x 7 columns]"
            ]
          },
          "metadata": {
            "tags": []
          },
          "execution_count": 119
        }
      ]
    },
    {
      "cell_type": "code",
      "metadata": {
        "id": "TvzGGk9mdwDA"
      },
      "source": [
        "tic_corr = tic_r.corr()"
      ],
      "execution_count": null,
      "outputs": []
    },
    {
      "cell_type": "code",
      "metadata": {
        "colab": {
          "base_uri": "https://localhost:8080/",
          "height": 596
        },
        "id": "0iFIJScjewhO",
        "outputId": "4d24ae9d-387f-40fd-da6a-c612e1cafe29"
      },
      "source": [
        "fig, ax = plt.subplots(figsize=(10,10)) \n",
        "sns.heatmap(tic_corr, annot=True, fmt=\"g\", cmap='viridis')\n",
        "plt.show()"
      ],
      "execution_count": null,
      "outputs": [
        {
          "output_type": "display_data",
          "data": {
            "image/png": "[encoded data removed]",
            "text/plain": [
              "<Figure size 720x720 with 2 Axes>"
            ]
          },
          "metadata": {
            "tags": [],
            "needs_background": "light"
          }
        }
      ]
    },
    {
      "cell_type": "code",
      "metadata": {
        "colab": {
          "base_uri": "https://localhost:8080/",
          "height": 297
        },
        "id": "RnFl2lfGfIOe",
        "outputId": "576f907b-2ad0-40e2-f5fa-4a34442a93e7"
      },
      "source": [
        "portfolio"
      ],
      "execution_count": null,
      "outputs": [
        {
          "output_type": "execute_result",
          "data": {
            "text/html": [
              "<div>\n",
              "<style scoped>\n",
              "    .dataframe tbody tr th:only-of-type {\n",
              "        vertical-align: middle;\n",
              "    }\n",
              "\n",
              "    .dataframe tbody tr th {\n",
              "        vertical-align: top;\n",
              "    }\n",
              "\n",
              "    .dataframe thead th {\n",
              "        text-align: right;\n",
              "    }\n",
              "</style>\n",
              "<table border=\"1\" class=\"dataframe\">\n",
              "  <thead>\n",
              "    <tr style=\"text-align: right;\">\n",
              "      <th></th>\n",
              "      <th>ISIN</th>\n",
              "      <th>NOM</th>\n",
              "      <th>Ticker</th>\n",
              "      <th>n</th>\n",
              "      <th>open</th>\n",
              "    </tr>\n",
              "  </thead>\n",
              "  <tbody>\n",
              "    <tr>\n",
              "      <th>44</th>\n",
              "      <td>LU1681045370</td>\n",
              "      <td>AMUNDI MSCI EMERGING MARKETS EUR (ACC)</td>\n",
              "      <td>AEEM.PA</td>\n",
              "      <td>20</td>\n",
              "      <td>5.1002</td>\n",
              "    </tr>\n",
              "    <tr>\n",
              "      <th>20</th>\n",
              "      <td>IE00B4L5Y983</td>\n",
              "      <td>ISHARES CORE MSCI WORLD USD (ACC)</td>\n",
              "      <td>IWDA.L</td>\n",
              "      <td>4</td>\n",
              "      <td>81.8400</td>\n",
              "    </tr>\n",
              "    <tr>\n",
              "      <th>21</th>\n",
              "      <td>IE00B5BMR087</td>\n",
              "      <td>ISHARES CORE S&amp;P 500 USD (ACC)</td>\n",
              "      <td>CSSPX.MI</td>\n",
              "      <td>2</td>\n",
              "      <td>350.7400</td>\n",
              "    </tr>\n",
              "    <tr>\n",
              "      <th>30</th>\n",
              "      <td>IE00BYZK4883</td>\n",
              "      <td>ISHARES DIGITALISATION USD (ACC)</td>\n",
              "      <td>DGIT.L</td>\n",
              "      <td>12</td>\n",
              "      <td>751.7500</td>\n",
              "    </tr>\n",
              "    <tr>\n",
              "      <th>35</th>\n",
              "      <td>IE00BP3QZ825</td>\n",
              "      <td>ISHARES EDGE WORLD MOMENTUM USD (ACC)</td>\n",
              "      <td>IWFM.L</td>\n",
              "      <td>2</td>\n",
              "      <td>4414.0000</td>\n",
              "    </tr>\n",
              "    <tr>\n",
              "      <th>16</th>\n",
              "      <td>IE00B3WJKG14</td>\n",
              "      <td>ISHARES S&amp;P 500 INFORMATION TECH USD (ACC)</td>\n",
              "      <td>IITU.L</td>\n",
              "      <td>15</td>\n",
              "      <td>1229.0000</td>\n",
              "    </tr>\n",
              "    <tr>\n",
              "      <th>6</th>\n",
              "      <td>LU1781541179</td>\n",
              "      <td>LYXOR CORE MSCI WORLD USD (ACC)</td>\n",
              "      <td>LCWL.L</td>\n",
              "      <td>5</td>\n",
              "      <td>10.5680</td>\n",
              "    </tr>\n",
              "    <tr>\n",
              "      <th>44</th>\n",
              "      <td>IE00BGV5VN51</td>\n",
              "      <td>XTRACKERS AI &amp; BIG DATA USD (ACC)</td>\n",
              "      <td>IE00BGV5VN51.SG</td>\n",
              "      <td>3</td>\n",
              "      <td>0.0000</td>\n",
              "    </tr>\n",
              "  </tbody>\n",
              "</table>\n",
              "</div>"
            ],
            "text/plain": [
              "            ISIN                                         NOM  ...   n       open\n",
              "44  LU1681045370      AMUNDI MSCI EMERGING MARKETS EUR (ACC)  ...  20     5.1002\n",
              "20  IE00B4L5Y983           ISHARES CORE MSCI WORLD USD (ACC)  ...   4    81.8400\n",
              "21  IE00B5BMR087              ISHARES CORE S&P 500 USD (ACC)  ...   2   350.7400\n",
              "30  IE00BYZK4883            ISHARES DIGITALISATION USD (ACC)  ...  12   751.7500\n",
              "35  IE00BP3QZ825       ISHARES EDGE WORLD MOMENTUM USD (ACC)  ...   2  4414.0000\n",
              "16  IE00B3WJKG14  ISHARES S&P 500 INFORMATION TECH USD (ACC)  ...  15  1229.0000\n",
              "6   LU1781541179             LYXOR CORE MSCI WORLD USD (ACC)  ...   5    10.5680\n",
              "44  IE00BGV5VN51           XTRACKERS AI & BIG DATA USD (ACC)  ...   3     0.0000\n",
              "\n",
              "[8 rows x 5 columns]"
            ]
          },
          "metadata": {
            "tags": []
          },
          "execution_count": 145
        }
      ]
    },
    {
      "cell_type": "code",
      "metadata": {
        "colab": {
          "base_uri": "https://localhost:8080/",
          "height": 450
        },
        "id": "f1oEyk-jfk8-",
        "outputId": "70aabcf0-3117-4589-b719-7ce38481e080"
      },
      "source": [
        "tic_r.tail(100).fillna(0).cumsum()"
      ],
      "execution_count": null,
      "outputs": [
        {
          "output_type": "execute_result",
          "data": {
            "text/html": [
              "<div>\n",
              "<style scoped>\n",
              "    .dataframe tbody tr th:only-of-type {\n",
              "        vertical-align: middle;\n",
              "    }\n",
              "\n",
              "    .dataframe tbody tr th {\n",
              "        vertical-align: top;\n",
              "    }\n",
              "\n",
              "    .dataframe thead th {\n",
              "        text-align: right;\n",
              "    }\n",
              "</style>\n",
              "<table border=\"1\" class=\"dataframe\">\n",
              "  <thead>\n",
              "    <tr style=\"text-align: right;\">\n",
              "      <th></th>\n",
              "      <th>AEEM.PA</th>\n",
              "      <th>CSSPX.MI</th>\n",
              "      <th>DGIT.L</th>\n",
              "      <th>IITU.L</th>\n",
              "      <th>IWDA.L</th>\n",
              "      <th>IWFM.L</th>\n",
              "      <th>LCWL.L</th>\n",
              "    </tr>\n",
              "    <tr>\n",
              "      <th>Date</th>\n",
              "      <th></th>\n",
              "      <th></th>\n",
              "      <th></th>\n",
              "      <th></th>\n",
              "      <th></th>\n",
              "      <th></th>\n",
              "      <th></th>\n",
              "    </tr>\n",
              "  </thead>\n",
              "  <tbody>\n",
              "    <tr>\n",
              "      <th>2021-01-07</th>\n",
              "      <td>-0.072225</td>\n",
              "      <td>0.769012</td>\n",
              "      <td>-0.028124</td>\n",
              "      <td>0.294721</td>\n",
              "      <td>0.365722</td>\n",
              "      <td>0.542499</td>\n",
              "      <td>0.541754</td>\n",
              "    </tr>\n",
              "    <tr>\n",
              "      <th>2021-01-08</th>\n",
              "      <td>2.442312</td>\n",
              "      <td>1.096761</td>\n",
              "      <td>-0.051223</td>\n",
              "      <td>0.419890</td>\n",
              "      <td>0.513629</td>\n",
              "      <td>0.989255</td>\n",
              "      <td>0.737650</td>\n",
              "    </tr>\n",
              "    <tr>\n",
              "      <th>2021-01-11</th>\n",
              "      <td>2.548683</td>\n",
              "      <td>1.698983</td>\n",
              "      <td>-0.079936</td>\n",
              "      <td>0.571147</td>\n",
              "      <td>0.611623</td>\n",
              "      <td>1.056703</td>\n",
              "      <td>0.899876</td>\n",
              "    </tr>\n",
              "    <tr>\n",
              "      <th>2021-01-12</th>\n",
              "      <td>3.187626</td>\n",
              "      <td>1.492512</td>\n",
              "      <td>-0.110660</td>\n",
              "      <td>0.007170</td>\n",
              "      <td>0.142243</td>\n",
              "      <td>0.585903</td>\n",
              "      <td>0.211468</td>\n",
              "    </tr>\n",
              "    <tr>\n",
              "      <th>2021-01-13</th>\n",
              "      <td>3.068446</td>\n",
              "      <td>1.615299</td>\n",
              "      <td>-0.137524</td>\n",
              "      <td>0.234491</td>\n",
              "      <td>0.216135</td>\n",
              "      <td>0.693917</td>\n",
              "      <td>0.281797</td>\n",
              "    </tr>\n",
              "    <tr>\n",
              "      <th>...</th>\n",
              "      <td>...</td>\n",
              "      <td>...</td>\n",
              "      <td>...</td>\n",
              "      <td>...</td>\n",
              "      <td>...</td>\n",
              "      <td>...</td>\n",
              "      <td>...</td>\n",
              "    </tr>\n",
              "    <tr>\n",
              "      <th>2021-05-24</th>\n",
              "      <td>-0.756826</td>\n",
              "      <td>5.536607</td>\n",
              "      <td>31.195352</td>\n",
              "      <td>1.706333</td>\n",
              "      <td>2.875809</td>\n",
              "      <td>1.648458</td>\n",
              "      <td>3.441075</td>\n",
              "    </tr>\n",
              "    <tr>\n",
              "      <th>2021-05-25</th>\n",
              "      <td>-0.177190</td>\n",
              "      <td>5.536607</td>\n",
              "      <td>31.195352</td>\n",
              "      <td>1.706333</td>\n",
              "      <td>2.875809</td>\n",
              "      <td>1.648458</td>\n",
              "      <td>3.441075</td>\n",
              "    </tr>\n",
              "    <tr>\n",
              "      <th>2021-05-26</th>\n",
              "      <td>0.557900</td>\n",
              "      <td>5.536607</td>\n",
              "      <td>31.195352</td>\n",
              "      <td>1.706333</td>\n",
              "      <td>2.875809</td>\n",
              "      <td>1.648458</td>\n",
              "      <td>3.441075</td>\n",
              "    </tr>\n",
              "    <tr>\n",
              "      <th>2021-05-27</th>\n",
              "      <td>0.899942</td>\n",
              "      <td>5.536607</td>\n",
              "      <td>31.195352</td>\n",
              "      <td>1.706333</td>\n",
              "      <td>2.875809</td>\n",
              "      <td>1.648458</td>\n",
              "      <td>3.441075</td>\n",
              "    </tr>\n",
              "    <tr>\n",
              "      <th>2021-05-28</th>\n",
              "      <td>1.515275</td>\n",
              "      <td>5.536607</td>\n",
              "      <td>31.195352</td>\n",
              "      <td>1.706333</td>\n",
              "      <td>2.875809</td>\n",
              "      <td>1.648458</td>\n",
              "      <td>3.441075</td>\n",
              "    </tr>\n",
              "  </tbody>\n",
              "</table>\n",
              "<p>100 rows × 7 columns</p>\n",
              "</div>"
            ],
            "text/plain": [
              "             AEEM.PA  CSSPX.MI     DGIT.L  ...    IWDA.L    IWFM.L    LCWL.L\n",
              "Date                                       ...                              \n",
              "2021-01-07 -0.072225  0.769012  -0.028124  ...  0.365722  0.542499  0.541754\n",
              "2021-01-08  2.442312  1.096761  -0.051223  ...  0.513629  0.989255  0.737650\n",
              "2021-01-11  2.548683  1.698983  -0.079936  ...  0.611623  1.056703  0.899876\n",
              "2021-01-12  3.187626  1.492512  -0.110660  ...  0.142243  0.585903  0.211468\n",
              "2021-01-13  3.068446  1.615299  -0.137524  ...  0.216135  0.693917  0.281797\n",
              "...              ...       ...        ...  ...       ...       ...       ...\n",
              "2021-05-24 -0.756826  5.536607  31.195352  ...  2.875809  1.648458  3.441075\n",
              "2021-05-25 -0.177190  5.536607  31.195352  ...  2.875809  1.648458  3.441075\n",
              "2021-05-26  0.557900  5.536607  31.195352  ...  2.875809  1.648458  3.441075\n",
              "2021-05-27  0.899942  5.536607  31.195352  ...  2.875809  1.648458  3.441075\n",
              "2021-05-28  1.515275  5.536607  31.195352  ...  2.875809  1.648458  3.441075\n",
              "\n",
              "[100 rows x 7 columns]"
            ]
          },
          "metadata": {
            "tags": []
          },
          "execution_count": 151
        }
      ]
    },
    {
      "cell_type": "code",
      "metadata": {
        "id": "lqNp0QRUhU9b"
      },
      "source": [
        ""
      ],
      "execution_count": null,
      "outputs": []
    }
  ]
}